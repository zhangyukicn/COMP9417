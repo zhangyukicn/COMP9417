{
 "cells": [
  {
   "cell_type": "code",
   "execution_count": 1,
   "metadata": {},
   "outputs": [
    {
     "ename": "AttributeError",
     "evalue": "module 'lightgbm' has no attribute 'Dataset'",
     "output_type": "error",
     "traceback": [
      "\u001b[1;31m---------------------------------------------------------------------------\u001b[0m",
      "\u001b[1;31mAttributeError\u001b[0m                            Traceback (most recent call last)",
      "\u001b[1;32m<ipython-input-1-50d48eb7964e>\u001b[0m in \u001b[0;36m<module>\u001b[1;34m\u001b[0m\n\u001b[0;32m      1\u001b[0m \u001b[1;32mimport\u001b[0m \u001b[0mpandas\u001b[0m \u001b[1;32mas\u001b[0m \u001b[0mpd\u001b[0m\u001b[1;33m\u001b[0m\u001b[1;33m\u001b[0m\u001b[0m\n\u001b[0;32m      2\u001b[0m \u001b[1;32mimport\u001b[0m \u001b[0mnumpy\u001b[0m \u001b[1;32mas\u001b[0m \u001b[0mnp\u001b[0m\u001b[1;33m\u001b[0m\u001b[1;33m\u001b[0m\u001b[0m\n\u001b[1;32m----> 3\u001b[1;33m \u001b[1;32mimport\u001b[0m \u001b[0mlightgbm\u001b[0m\u001b[1;33m\u001b[0m\u001b[1;33m\u001b[0m\u001b[0m\n\u001b[0m\u001b[0;32m      4\u001b[0m \u001b[1;33m\u001b[0m\u001b[0m\n\u001b[0;32m      5\u001b[0m \u001b[0mlabel_address\u001b[0m \u001b[1;33m=\u001b[0m \u001b[1;34m\"./data/label.csv\"\u001b[0m\u001b[1;33m\u001b[0m\u001b[1;33m\u001b[0m\u001b[0m\n",
      "\u001b[1;32m~\\Desktop\\T2\\COMP9417\\Proj\\instacart-market-basket-analysis\\lightgbm.py\u001b[0m in \u001b[0;36m<module>\u001b[1;34m\u001b[0m\n\u001b[0;32m     22\u001b[0m         \"product_reordered_rate\",\"userproduct_order_num\",\"userproduct_order_rate\",\"userproduct_reorder_rate\"}\n\u001b[0;32m     23\u001b[0m \u001b[1;33m\u001b[0m\u001b[0m\n\u001b[1;32m---> 24\u001b[1;33m \u001b[0mtrain_model\u001b[0m \u001b[1;33m=\u001b[0m \u001b[0mlightgbm\u001b[0m\u001b[1;33m.\u001b[0m\u001b[0mDataset\u001b[0m\u001b[1;33m(\u001b[0m\u001b[0mtrain\u001b[0m\u001b[1;33m[\u001b[0m\u001b[0mparam\u001b[0m\u001b[1;33m]\u001b[0m\u001b[1;33m,\u001b[0m\u001b[0mlabel\u001b[0m \u001b[1;33m=\u001b[0m \u001b[0mlabel\u001b[0m\u001b[1;33m,\u001b[0m\u001b[0mcategorical_feature\u001b[0m\u001b[1;33m=\u001b[0m\u001b[1;33m[\u001b[0m\u001b[1;34m'aisle_id'\u001b[0m\u001b[1;33m,\u001b[0m \u001b[1;34m'department_id'\u001b[0m\u001b[1;33m]\u001b[0m\u001b[1;33m)\u001b[0m\u001b[1;33m\u001b[0m\u001b[1;33m\u001b[0m\u001b[0m\n\u001b[0m\u001b[0;32m     25\u001b[0m param2 = {\n\u001b[0;32m     26\u001b[0m     \u001b[1;34m'task'\u001b[0m\u001b[1;33m:\u001b[0m \u001b[1;34m'train'\u001b[0m\u001b[1;33m,\u001b[0m\u001b[1;33m\u001b[0m\u001b[1;33m\u001b[0m\u001b[0m\n",
      "\u001b[1;31mAttributeError\u001b[0m: module 'lightgbm' has no attribute 'Dataset'"
     ]
    }
   ],
   "source": [
    "import pandas as pd\n",
    "import numpy as np\n",
    "import lightgbm\n",
    "\n",
    "label_address = \"./data/label.csv\"\n",
    "test_address = \"./data/test_set.csv\"\n",
    "train_address = \"./data/train_set.csv\"\n",
    "orders_address = \"./data/orders.csv\"\n",
    "\n",
    "train = pd.read_csv(train_address)\n",
    "label = pd.read_csv(label_address)\n",
    "test = pd.read_csv(test_address)\n",
    "orders = pd.read_csv(orders_address)\n",
    "\n",
    "test2 = orders[orders.eval_set =='test']\n",
    "label[\"label\"] = label[\"label\"].astype(np.float32)\n",
    "label = label[\"label\"].values.tolist()\n",
    "\n",
    "param = {\"user_orders_num\",\"user_history_item_num\",\"user_history_different_item_num\",\n",
    "        \"user_order_frequency_bydays\",\"user_average_order\",\"order_hour_of_day\",\"days_since_prior_order\",\n",
    "         \"day_weight\",\"aisle_id\",\"department_id\",\"product_ordered_num\",\"product_reordered_num\",\n",
    "        \"product_reordered_rate\",\"userproduct_order_num\",\"userproduct_order_rate\",\"userproduct_reorder_rate\"}\n",
    "\n",
    "train_model = lightgbm.Dataset(train[param],label = label,categorical_feature=['aisle_id', 'department_id'])\n",
    "param2 = {\n",
    "    'task': 'train',\n",
    "    'boosting_type': 'gbdt',\n",
    "    'objective': 'binary',\n",
    "    'metric': {'binary_logloss'},\n",
    "    'num_leaves': 96,\n",
    "    'max_depth': 10,\n",
    "    'feature_fraction': 0.9,\n",
    "    'bagging_fraction': 0.95,\n",
    "    'bagging_freq': 5\n",
    "}\n",
    "print(0)\n",
    "model = lightgbm.train(param2,train_model,100)\n",
    "print(1)\n",
    "result = model.predict(test[param])\n",
    "print(2)\n",
    "TRESHOLD = 0.22 \n",
    "test[\"result\"] = result\n",
    "\n",
    "d = dict()\n",
    "for row in test.itertuples():\n",
    "    if row.result > TRESHOLD:\n",
    "        try:\n",
    "            d[row.order_id] += ' ' + str(row.product_id)\n",
    "        except:\n",
    "            d[row.order_id] = str(row.product_id)\n",
    "\n",
    "for order in test2.order_id:\n",
    "    if order not in d:\n",
    "        d[order] = 'None'\n",
    "\n",
    "submission = pd.DataFrame.from_dict(d, orient='index')\n",
    "\n",
    "submission.reset_index(inplace=True)\n",
    "submission.columns = ['order_id', 'products']\n",
    "submission.to_csv('submission.csv', index=False)"
   ]
  },
  {
   "cell_type": "code",
   "execution_count": null,
   "metadata": {},
   "outputs": [],
   "source": []
  }
 ],
 "metadata": {
  "kernelspec": {
   "display_name": "Python 3",
   "language": "python",
   "name": "python3"
  },
  "language_info": {
   "codemirror_mode": {
    "name": "ipython",
    "version": 3
   },
   "file_extension": ".py",
   "mimetype": "text/x-python",
   "name": "python",
   "nbconvert_exporter": "python",
   "pygments_lexer": "ipython3",
   "version": "3.7.3"
  }
 },
 "nbformat": 4,
 "nbformat_minor": 4
}
