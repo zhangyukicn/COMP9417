{
 "cells": [
  {
   "cell_type": "code",
   "execution_count": null,
   "metadata": {},
   "outputs": [
    {
     "name": "stdout",
     "output_type": "stream",
     "text": [
      "-------Well, the data proccsing costs lots of time so I decide to print something-------\n",
      "-------Not only to make it not so boring, but also let you know our little program is still working-------\n",
      "-------This artificial idiot is going to read files from your disk-------\n",
      "-------But plz give it some time as the files are a little bit large-------\n",
      "-------load file completed-------\n",
      "-------convert type start-------\n",
      "<class 'pandas.core.frame.DataFrame'>\n",
      "RangeIndex: 49688 entries, 0 to 49687\n",
      "Data columns (total 3 columns):\n",
      "product_id       49688 non-null uint16\n",
      "aisle_id         49688 non-null uint8\n",
      "department_id    49688 non-null uint8\n",
      "dtypes: uint16(1), uint8(2)\n",
      "memory usage: 194.2 KB\n",
      "-------convert type finished-------\n",
      "-------Compute extra feature start-------\n"
     ]
    }
   ],
   "source": [
    "import numpy as np\n",
    "import pandas as pd\n",
    "\n",
    "# The data used for training should be strictly in this format\n",
    "# -root directory\n",
    "# -data\n",
    "# --order_products__prior.csv\n",
    "# --order_products__train.csv\n",
    "# --orders.csv\n",
    "# --products.csv\n",
    "# -code...\n",
    "\n",
    "prior_address = \"./data/order_products__prior.csv\"\n",
    "train_address = \"./data/order_products__train.csv\"\n",
    "orders_address = \"./data/orders.csv\"\n",
    "products_address = \"./data/products.csv\"\n",
    "\n",
    "print(\"-------Well, the data proccsing costs lots of time so I decide to print something-------\")\n",
    "print(\"-------Not only to make it not so boring, but also let you know our little program is still working-------\")\n",
    "print(\"-------This artificial idiot is going to read files from your disk-------\")\n",
    "print(\"-------But plz give it some time as the files are a little bit large-------\")\n",
    "prior = pd.read_csv(prior_address)\n",
    "train = pd.read_csv(train_address)\n",
    "orders = pd.read_csv(orders_address)\n",
    "products = pd.read_csv(products_address)\n",
    "print(\"-------load file completed-------\")\n",
    "\n",
    "# update 1, memory cost is one of the major problems in lightgbm\n",
    "# so we are going to transfer the default type from int64 to np.uint16 or np.uint32\n",
    "# based on data_analysis.ipynb we learned each colunm's maximum value and the maximum value \n",
    "# of usigned int8, unsigned int16 and unsigned int32\n",
    "print(\"-------convert type start-------\")\n",
    "\n",
    "products[\"product_id\"] = products[\"product_id\"].astype(np.uint16)\n",
    "products[\"aisle_id\"] = products[\"aisle_id\"].astype(np.uint8)\n",
    "products[\"department_id\"] = products[\"department_id\"].astype(np.uint8)\n",
    "products = products.drop(['product_name'],axis = 1)\n",
    "products.info()\n",
    "# in products we noticed that the \"products name\" has the same function with product_id\n",
    "# and id is much more simple to handle, so we are going to remove \"products name\" column\n",
    "\n",
    "prior[\"order_id\"] = prior[\"order_id\"].astype(np.uint32)\n",
    "prior[\"product_id\"] = prior[\"product_id\"].astype(np.uint16)\n",
    "prior[\"add_to_cart_order\"] = prior[\"add_to_cart_order\"].astype(np.uint8)\n",
    "prior[\"reordered\"] = prior[\"reordered\"].astype(np.uint8)\n",
    "\n",
    "train[\"order_id\"] = train[\"order_id\"].astype(np.uint32)\n",
    "train[\"product_id\"] = train[\"product_id\"].astype(np.uint16)\n",
    "train[\"add_to_cart_order\"] = train[\"add_to_cart_order\"].astype(np.uint8)\n",
    "train[\"reordered\"] = train[\"reordered\"].astype(np.uint8)\n",
    "\n",
    "orders[\"order_id\"] = orders[\"order_id\"].astype(np.uint32)\n",
    "orders[\"user_id\"] = orders[\"user_id\"].astype(np.uint32)\n",
    "orders[\"order_number\"] = orders[\"order_number\"].astype(np.uint8)\n",
    "orders[\"order_dow\"] = orders[\"order_dow\"].astype(np.uint8)\n",
    "orders[\"order_hour_of_day\"] = orders[\"order_hour_of_day\"].astype(np.uint8)\n",
    "\n",
    "print(\"-------convert type finished-------\")\n",
    "print(\"-------Compute extra feature start-------\")\n",
    "\n",
    "# For each specific product, calculate how many times it has been bought\n",
    "# if the RAM cost is too high, go adjust the variable type here\n",
    "products_tmp = pd.DataFrame()\n",
    "products_tmp['product_ordered_num'] = prior.groupby(prior.product_id).size().astype(np.uint32)\n",
    "products_tmp['product_reordered_num'] = prior['reordered'].groupby(prior.product_id).sum().astype(np.float32)\n",
    "products_tmp['product_reordered_rate'] = (products_tmp.product_reordered_num / products_tmp.product_ordered_num).astype(np.float32)\n",
    "\n",
    "products = products.join(products_tmp, on='product_id')\n",
    "#products.set_index('product_id', drop=False, inplace=True)\n",
    "del products_tmp\n",
    "\n",
    "orders.set_index('order_id', inplace=True, drop=False)\n",
    "prior = prior.join(orders, on='order_id', rsuffix='tmp')\n",
    "#prior.info()\n",
    "prior.drop([\"order_idtmp\"],axis = 1,inplace = True)\n",
    "\n",
    "user_tmp = pd.DataFrame()\n",
    "user_tmp['orders_frequency_days'] = orders.groupby('user_id')['days_since_prior_order'].mean().astype(np.float32)\n",
    "user_tmp['total_orders'] = orders.groupby('user_id').size().astype(np.int16)\n",
    "#user_tmp.info()\n",
    "#print(user_tmp.head(5))\n",
    "user_tmp['item_sum'] = prior.groupby('user_id').size().astype(np.int16)\n",
    "user_tmp['products_list'] = prior.groupby('user_id')['product_id'].apply(set)\n",
    "user_tmp['unique_products_num'] = prior.groupby('user_id')['product_id'].nunique()\n",
    "\n",
    "user_tmp['item_sum'] = prior.groupby('user_id').size().astype(np.int16)\n",
    "user_tmp['items_order'] = (user_tmp.item_sum / user_tmp.total_orders).astype(np.float32)\n",
    "\n",
    "#print(user_tmp.head(5))\n",
    "#print(products.head(5))\n",
    "#print(orders.head(5))\n",
    "#print(prior.info())\n",
    "print(\"finished\")"
   ]
  },
  {
   "cell_type": "code",
   "execution_count": null,
   "metadata": {},
   "outputs": [],
   "source": [
    "products.info()"
   ]
  },
  {
   "cell_type": "code",
   "execution_count": null,
   "metadata": {},
   "outputs": [],
   "source": [
    "#user_tmp.info()\n",
    "#print(user_tmp.head(1))\n",
    "user_tmp.info()\n",
    "print(user_tmp.products_list[1])"
   ]
  },
  {
   "cell_type": "code",
   "execution_count": null,
   "metadata": {},
   "outputs": [],
   "source": [
    "products[\"product_ordered_num\"] = products[\"product_ordered_num\"].astype(np.float32)\n",
    "products.info()"
   ]
  },
  {
   "cell_type": "code",
   "execution_count": null,
   "metadata": {},
   "outputs": [],
   "source": [
    "orders.info()\n",
    "print(orders.head(5))"
   ]
  },
  {
   "cell_type": "code",
   "execution_count": null,
   "metadata": {},
   "outputs": [],
   "source": [
    "orders_tmp = prior.copy()"
   ]
  },
  {
   "cell_type": "code",
   "execution_count": null,
   "metadata": {},
   "outputs": [],
   "source": [
    "print(orders_tmp.head(5))\n",
    "orders_tmp.info()"
   ]
  },
  {
   "cell_type": "code",
   "execution_count": null,
   "metadata": {},
   "outputs": [],
   "source": [
    "orders_tmp1 = pd.DataFrame()\n",
    "orders_tmp1[\"userproduct_order_num\"] = orders_tmp.groupby([\"user_id\",\"product_id\"]).size()\n",
    "orders_tmp1[\"user_last_order\"] = orders_tmp.groupby([\"user_id\",\"product_id\"])[\"order_id\"].agg('max')\n",
    "print(orders_tmp1.head(5))"
   ]
  },
  {
   "cell_type": "code",
   "execution_count": null,
   "metadata": {},
   "outputs": [],
   "source": [
    "orders_tmp = pd.merge(orders_tmp,orders_tmp1,how = \"inner\",on = [\"user_id\",\"product_id\"])\n",
    "orders_tmp.info()\n",
    "print(orders_tmp.head(5))"
   ]
  },
  {
   "cell_type": "code",
   "execution_count": null,
   "metadata": {},
   "outputs": [],
   "source": [
    "print(orders_tmp[(orders_tmp.user_id == 1)&(orders_tmp.product_id == 196)])\n",
    "print(orders_tmp[(orders_tmp.user_id == 1)&(orders_tmp.product_id == 10258)])\n",
    "print(orders_tmp[(orders_tmp.user_id == 1)&(orders_tmp.product_id == 10326)])\n",
    "print(orders_tmp[(orders_tmp.user_id == 1)&(orders_tmp.product_id == 12427)])\n",
    "print(orders_tmp[(orders_tmp.user_id == 1)&(orders_tmp.product_id == 13032)])"
   ]
  },
  {
   "cell_type": "code",
   "execution_count": null,
   "metadata": {},
   "outputs": [],
   "source": [
    "print(orders_tmp[(orders_tmp.order_id == 550135)])"
   ]
  },
  {
   "cell_type": "code",
   "execution_count": null,
   "metadata": {},
   "outputs": [],
   "source": [
    "print(orders_tmp[(orders_tmp.product_id == 196)])"
   ]
  },
  {
   "cell_type": "code",
   "execution_count": null,
   "metadata": {},
   "outputs": [],
   "source": [
    "orders_tmp[\"userproduct_order_num\"] = orders_tmp[\"userproduct_order_num\"].astype(np.uint16)\n",
    "orders_tmp[\"days_since_prior_order\"] = orders_tmp[\"days_since_prior_order\"].astype(np.float32)\n",
    "orders_tmp.info()"
   ]
  },
  {
   "cell_type": "code",
   "execution_count": null,
   "metadata": {},
   "outputs": [],
   "source": [
    "del orders_tmp1"
   ]
  },
  {
   "cell_type": "code",
   "execution_count": null,
   "metadata": {},
   "outputs": [],
   "source": [
    "train_set = orders[orders.eval_set =='train']\n",
    "train_set[\"days_since_prior_order\"] = train_set[\"days_since_prior_order\"].astype(np.float32)\n",
    "train_set.info()"
   ]
  },
  {
   "cell_type": "code",
   "execution_count": null,
   "metadata": {},
   "outputs": [],
   "source": [
    "order_id_list = []\n",
    "product_id_list = []\n",
    "label = []\n",
    "train.set_index([\"order_id\",\"product_id\"],inplace = True, drop = False)\n",
    "train.info()"
   ]
  },
  {
   "cell_type": "code",
   "execution_count": null,
   "metadata": {},
   "outputs": [],
   "source": [
    "train.info()"
   ]
  },
  {
   "cell_type": "code",
   "execution_count": null,
   "metadata": {},
   "outputs": [],
   "source": [
    "i = 0\n",
    "for data in train_set.itertuples():\n",
    "    i+=1\n",
    "    if(i%10000 == 0):\n",
    "        print(i)\n",
    "    product_tmp_list = []\n",
    "    order_id = data.order_id\n",
    "    user_id = data.user_id\n",
    "    for i in user_tmp.products_list[user_id]:\n",
    "        product_id_list.append(i)\n",
    "        order_id_list.append(order_id)\n",
    "        product_tmp_list.append(i)\n",
    "    if(len(order_id_list) != len(product_id_list)):\n",
    "        print(len(order_id_list))\n",
    "        print(len(product_id_list))\n",
    "    label += [(order_id,product) in train.index for product in product_tmp_list]"
   ]
  },
  {
   "cell_type": "code",
   "execution_count": null,
   "metadata": {},
   "outputs": [],
   "source": [
    "train_dict = {'order_id': order_id_list,'product_id':product_id_list}\n",
    "print(len(order_id_list))\n",
    "print(len(product_id_list))"
   ]
  },
  {
   "cell_type": "code",
   "execution_count": null,
   "metadata": {},
   "outputs": [],
   "source": [
    "train_set = pd.DataFrame(train_dict)\n",
    "train_set[\"user_id\"] = train_set.order_id.map(orders.user_id)\n",
    "train_set['user_orders_num'] = train_set.user_id.map(user_tmp.total_orders)\n",
    "train_set['user_history_item_num'] = train_set.user_id.map(user_tmp.item_sum)\n",
    "train_set['user_history_different_item_num'] = train_set.user_id.map(user_tmp.unique_products_num)\n",
    "train_set['user_order_frequency_bydays'] = train_set.user_id.map(user_tmp.orders_frequency_days)\n",
    "train_set['user_average_order'] = train_set.user_id.map(user_tmp.items_order)\n",
    "train_set.info()"
   ]
  },
  {
   "cell_type": "code",
   "execution_count": null,
   "metadata": {},
   "outputs": [],
   "source": [
    "train_set[\"order_hour_of_day\"] =  train_set.order_id.map(orders.order_hour_of_day)\n",
    "train_set[\"days_since_prior_order\"] = train_set.order_id.map(orders.days_since_prior_order)\n",
    "train_set[\"day_weight\"] = train_set.days_since_prior_order/train_set.user_order_frequency_bydays\n",
    "train_set[\"aisle_id\"] = train_set.product_id.map(products.aisle_id)\n",
    "train_set[\"department_id\"] = train_set.product_id.map(products.department_id)\n",
    "train_set[\"product_ordered_num\"] = train_set.product_id.map(products.product_ordered_num)\n",
    "train_set[\"product_reordered_num\"] = train_set.product_id.map(products.product_reordered_num)\n",
    "train_set[\"product_reordered_rate\"] = train_set.product_id.map(products.product_reordered_rate)\n",
    "train_set.info()"
   ]
  },
  {
   "cell_type": "code",
   "execution_count": null,
   "metadata": {},
   "outputs": [],
   "source": [
    "orders_tmp[\"sub_index\"] = orders_tmp.user_id*1000000+orders_tmp.product_id\n",
    "orders_tmp.info()"
   ]
  },
  {
   "cell_type": "code",
   "execution_count": null,
   "metadata": {},
   "outputs": [],
   "source": [
    "train_set[\"sub_index\"] = train_set.user_id*1000000+train_set.product_id\n",
    "train_set[\"userproduct_order_num\"] = train_set.sub_index.map(orders_tmp.userproduct_order_num)\n",
    "train_set[\"userproduct_order_rate\"] = train_set.userproduct_order_num/train_set.user_orders_num\n",
    "train_set[\"userproduct_last_order\"] = train_set.sub_index.map(orders_tmp.user_last_order)\n",
    "train_set.info()"
   ]
  },
  {
   "cell_type": "code",
   "execution_count": null,
   "metadata": {},
   "outputs": [],
   "source": [
    "train_set[\"userproduct_reorder_rate\"] = train_set.product_ordered_num/train_set.user_orders_num"
   ]
  },
  {
   "cell_type": "code",
   "execution_count": null,
   "metadata": {},
   "outputs": [],
   "source": [
    "train_set.drop([\"sub_index\"],axis = 1, inplace = True)"
   ]
  },
  {
   "cell_type": "code",
   "execution_count": null,
   "metadata": {},
   "outputs": [],
   "source": [
    "train_set.to_csv(\"./data/train_set.csv\")"
   ]
  },
  {
   "cell_type": "code",
   "execution_count": null,
   "metadata": {},
   "outputs": [],
   "source": [
    "print(label[1])"
   ]
  },
  {
   "cell_type": "code",
   "execution_count": null,
   "metadata": {},
   "outputs": [],
   "source": [
    "label_dict = {\"label\":label}\n",
    "label_df = pd.DataFrame(label_dict)\n",
    "label_df.to_csv(\"./data/label.csv\")"
   ]
  },
  {
   "cell_type": "code",
   "execution_count": null,
   "metadata": {},
   "outputs": [],
   "source": [
    "train_set = orders[orders.eval_set =='test']\n",
    "train_set[\"days_since_prior_order\"] = train_set[\"days_since_prior_order\"].astype(np.float32)\n",
    "train_set.info()\n",
    "order_id_list = []\n",
    "product_id_list = []\n",
    "train.set_index([\"order_id\",\"product_id\"],inplace = True, drop = False)\n",
    "i = 0\n",
    "for data in train_set.itertuples():\n",
    "    i+=1\n",
    "    if(i%10000 == 0):\n",
    "        print(i)\n",
    "    product_tmp_list = []\n",
    "    order_id = data.order_id\n",
    "    user_id = data.user_id\n",
    "    for i in user_tmp.products_list[user_id]:\n",
    "        product_id_list.append(i)\n",
    "        order_id_list.append(order_id)\n",
    "        product_tmp_list.append(i)\n",
    "    if(len(order_id_list) != len(product_id_list)):\n",
    "        print(len(order_id_list))\n",
    "        print(len(product_id_list))\n",
    "train_dict = {'order_id': order_id_list,'product_id':product_id_list}\n",
    "train_set = pd.DataFrame(train_dict)\n",
    "train_set[\"user_id\"] = train_set.order_id.map(orders.user_id)\n",
    "train_set['user_orders_num'] = train_set.user_id.map(user_tmp.total_orders)\n",
    "train_set['user_history_item_num'] = train_set.user_id.map(user_tmp.item_sum)\n",
    "train_set['user_history_different_item_num'] = train_set.user_id.map(user_tmp.unique_products_num)\n",
    "train_set['user_order_frequency_bydays'] = train_set.user_id.map(user_tmp.orders_frequency_days)\n",
    "train_set['user_average_order'] = train_set.user_id.map(user_tmp.items_order)\n",
    "train_set[\"order_hour_of_day\"] =  train_set.order_id.map(orders.order_hour_of_day)\n",
    "train_set[\"days_since_prior_order\"] = train_set.order_id.map(orders.days_since_prior_order)\n",
    "train_set[\"day_weight\"] = train_set.days_since_prior_order/train_set.user_order_frequency_bydays\n",
    "train_set[\"aisle_id\"] = train_set.product_id.map(products.aisle_id)\n",
    "train_set[\"department_id\"] = train_set.product_id.map(products.department_id)\n",
    "train_set[\"product_ordered_num\"] = train_set.product_id.map(products.product_ordered_num)\n",
    "train_set[\"product_reordered_num\"] = train_set.product_id.map(products.product_reordered_num)\n",
    "train_set[\"product_reordered_rate\"] = train_set.product_id.map(products.product_reordered_rate)\n",
    "orders_tmp[\"sub_index\"] = orders_tmp.user_id*1000000+orders_tmp.product_id\n",
    "train_set[\"sub_index\"] = train_set.user_id*1000000+train_set.product_id\n",
    "train_set[\"userproduct_order_num\"] = train_set.sub_index.map(orders_tmp.userproduct_order_num)\n",
    "train_set[\"userproduct_order_rate\"] = train_set.userproduct_order_num/train_set.user_orders_num\n",
    "train_set[\"userproduct_last_order\"] = train_set.sub_index.map(orders_tmp.user_last_order)\n",
    "train_set[\"userproduct_reorder_rate\"] = train_set.product_ordered_num/train_set.user_orders_num\n",
    "train_set.drop([\"sub_index\"],axis = 1, inplace = True)\n",
    "train_set.to_csv(\"./data/test_set.csv\")"
   ]
  },
  {
   "cell_type": "code",
   "execution_count": null,
   "metadata": {},
   "outputs": [],
   "source": []
  }
 ],
 "metadata": {
  "kernelspec": {
   "display_name": "Python 3",
   "language": "python",
   "name": "python3"
  },
  "language_info": {
   "codemirror_mode": {
    "name": "ipython",
    "version": 3
   },
   "file_extension": ".py",
   "mimetype": "text/x-python",
   "name": "python",
   "nbconvert_exporter": "python",
   "pygments_lexer": "ipython3",
   "version": "3.7.3"
  }
 },
 "nbformat": 4,
 "nbformat_minor": 4
}
