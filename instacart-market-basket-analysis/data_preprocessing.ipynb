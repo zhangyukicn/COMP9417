{
 "cells": [
  {
   "cell_type": "code",
   "execution_count": 1,
   "metadata": {},
   "outputs": [
    {
     "name": "stdout",
     "output_type": "stream",
     "text": [
      "-------Well, the data proccsing costs lots of time so I decide to print something-------\n",
      "-------Not only to make it not so boring, but also let you know our little program is still working-------\n",
      "-------This artificial idiot is going to read files from your disk-------\n",
      "-------But plz give it some time as the files are a little bit large-------\n",
      "-------load file completed-------\n",
      "-------convert type start-------\n",
      "<class 'pandas.core.frame.DataFrame'>\n",
      "RangeIndex: 49688 entries, 0 to 49687\n",
      "Data columns (total 3 columns):\n",
      "product_id       49688 non-null uint16\n",
      "aisle_id         49688 non-null uint8\n",
      "department_id    49688 non-null uint8\n",
      "dtypes: uint16(1), uint8(2)\n",
      "memory usage: 194.2 KB\n",
      "-------convert type finished-------\n",
      "-------Compute extra feature start-------\n",
      "finished\n"
     ]
    }
   ],
   "source": [
    "import numpy as np\n",
    "import pandas as pd\n",
    "\n",
    "# The data used for training should be strictly in this format\n",
    "# -root directory\n",
    "# -data\n",
    "# --order_products__prior.csv\n",
    "# --order_products__train.csv\n",
    "# --orders.csv\n",
    "# --products.csv\n",
    "# -code...\n",
    "\n",
    "prior_address = \"./data/order_products__prior.csv\"\n",
    "train_address = \"./data/order_products__train.csv\"\n",
    "orders_address = \"./data/orders.csv\"\n",
    "products_address = \"./data/products.csv\"\n",
    "\n",
    "print(\"-------Well, the data proccsing costs lots of time so I decide to print something-------\")\n",
    "print(\"-------Not only to make it not so boring, but also let you know our little program is still working-------\")\n",
    "print(\"-------This artificial idiot is going to read files from your disk-------\")\n",
    "print(\"-------But plz give it some time as the files are a little bit large-------\")\n",
    "prior = pd.read_csv(prior_address)\n",
    "train = pd.read_csv(train_address)\n",
    "orders = pd.read_csv(orders_address)\n",
    "products = pd.read_csv(products_address)\n",
    "print(\"-------load file completed-------\")\n",
    "\n",
    "# update 1, memory cost is one of the major problems in lightgbm\n",
    "# so we are going to transfer the default type from int64 to np.uint16 or np.uint32\n",
    "# based on data_analysis.ipynb we learned each colunm's maximum value and the maximum value \n",
    "# of usigned int8, unsigned int16 and unsigned int32\n",
    "print(\"-------convert type start-------\")\n",
    "\n",
    "products[\"product_id\"] = products[\"product_id\"].astype(np.uint16)\n",
    "products[\"aisle_id\"] = products[\"aisle_id\"].astype(np.uint8)\n",
    "products[\"department_id\"] = products[\"department_id\"].astype(np.uint8)\n",
    "products = products.drop(['product_name'],axis = 1)\n",
    "products.info()\n",
    "# in products we noticed that the \"products name\" has the same function with product_id\n",
    "# and id is much more simple to handle, so we are going to remove \"products name\" column\n",
    "\n",
    "prior[\"order_id\"] = prior[\"order_id\"].astype(np.uint32)\n",
    "prior[\"product_id\"] = prior[\"product_id\"].astype(np.uint16)\n",
    "prior[\"add_to_cart_order\"] = prior[\"add_to_cart_order\"].astype(np.uint8)\n",
    "prior[\"reordered\"] = prior[\"reordered\"].astype(np.uint8)\n",
    "\n",
    "train[\"order_id\"] = train[\"order_id\"].astype(np.uint32)\n",
    "train[\"product_id\"] = train[\"product_id\"].astype(np.uint16)\n",
    "train[\"add_to_cart_order\"] = train[\"add_to_cart_order\"].astype(np.uint8)\n",
    "train[\"reordered\"] = train[\"reordered\"].astype(np.uint8)\n",
    "\n",
    "orders[\"order_id\"] = orders[\"order_id\"].astype(np.uint32)\n",
    "orders[\"user_id\"] = orders[\"user_id\"].astype(np.uint32)\n",
    "orders[\"order_number\"] = orders[\"order_number\"].astype(np.uint8)\n",
    "orders[\"order_dow\"] = orders[\"order_dow\"].astype(np.uint8)\n",
    "orders[\"order_hour_of_day\"] = orders[\"order_hour_of_day\"].astype(np.uint8)\n",
    "\n",
    "print(\"-------convert type finished-------\")\n",
    "print(\"-------Compute extra feature start-------\")\n",
    "\n",
    "# For each specific product, calculate how many times it has been bought\n",
    "# if the RAM cost is too high, go adjust the variable type here\n",
    "products_tmp = pd.DataFrame()\n",
    "products_tmp['product_ordered_num'] = prior.groupby(prior.product_id).size().astype(np.uint32)\n",
    "products_tmp['product_reordered_num'] = prior['reordered'].groupby(prior.product_id).sum().astype(np.float32)\n",
    "products_tmp['product_reordered_rate'] = (products_tmp.product_reordered_num / products_tmp.product_ordered_num).astype(np.float32)\n",
    "\n",
    "products = products.join(products_tmp, on='product_id')\n",
    "#products.set_index('product_id', drop=False, inplace=True)\n",
    "del products_tmp\n",
    "\n",
    "orders.set_index('order_id', inplace=True, drop=False)\n",
    "prior = prior.join(orders, on='order_id', rsuffix='tmp')\n",
    "#prior.info()\n",
    "prior.drop([\"order_idtmp\"],axis = 1,inplace = True)\n",
    "\n",
    "user_tmp = pd.DataFrame()\n",
    "user_tmp['orders_frequency_days'] = orders.groupby('user_id')['days_since_prior_order'].mean().astype(np.float32)\n",
    "user_tmp['total_orders'] = orders.groupby('user_id').size().astype(np.int16)\n",
    "#user_tmp.info()\n",
    "#print(user_tmp.head(5))\n",
    "user_tmp['item_sum'] = prior.groupby('user_id').size().astype(np.int16)\n",
    "user_tmp['products_list'] = prior.groupby('user_id')['product_id'].apply(set)\n",
    "user_tmp['unique_products_num'] = prior.groupby('user_id')['product_id'].nunique()\n",
    "\n",
    "user_tmp['item_sum'] = prior.groupby('user_id').size().astype(np.int16)\n",
    "user_tmp['items_order'] = (user_tmp.item_sum / user_tmp.total_orders).astype(np.float32)\n",
    "\n",
    "#print(user_tmp.head(5))\n",
    "#print(products.head(5))\n",
    "#print(orders.head(5))\n",
    "#print(prior.info())\n",
    "print(\"finished\")"
   ]
  },
  {
   "cell_type": "code",
   "execution_count": 2,
   "metadata": {},
   "outputs": [
    {
     "name": "stdout",
     "output_type": "stream",
     "text": [
      "<class 'pandas.core.frame.DataFrame'>\n",
      "RangeIndex: 49688 entries, 0 to 49687\n",
      "Data columns (total 6 columns):\n",
      "product_id                49688 non-null uint16\n",
      "aisle_id                  49688 non-null uint8\n",
      "department_id             49688 non-null uint8\n",
      "product_ordered_num       49677 non-null float64\n",
      "product_reordered_num     49677 non-null float32\n",
      "product_reordered_rate    49677 non-null float32\n",
      "dtypes: float32(2), float64(1), uint16(1), uint8(2)\n",
      "memory usage: 970.5 KB\n"
     ]
    }
   ],
   "source": [
    "products.info()"
   ]
  },
  {
   "cell_type": "code",
   "execution_count": 3,
   "metadata": {},
   "outputs": [
    {
     "name": "stdout",
     "output_type": "stream",
     "text": [
      "<class 'pandas.core.frame.DataFrame'>\n",
      "UInt64Index: 206209 entries, 1 to 206209\n",
      "Data columns (total 6 columns):\n",
      "orders_frequency_days    206209 non-null float32\n",
      "total_orders             206209 non-null int16\n",
      "item_sum                 206209 non-null int16\n",
      "products_list            206209 non-null object\n",
      "unique_products_num      206209 non-null int64\n",
      "items_order              206209 non-null float32\n",
      "dtypes: float32(2), int16(2), int64(1), object(1)\n",
      "memory usage: 7.1+ MB\n",
      "{17122, 196, 26405, 46149, 14084, 13032, 26088, 39657, 12427, 25133, 35951, 38928, 10258, 30450, 49235, 10326, 13176, 41787}\n"
     ]
    }
   ],
   "source": [
    "#user_tmp.info()\n",
    "#print(user_tmp.head(1))\n",
    "user_tmp.info()\n",
    "print(user_tmp.products_list[1])"
   ]
  },
  {
   "cell_type": "code",
   "execution_count": 4,
   "metadata": {},
   "outputs": [
    {
     "name": "stdout",
     "output_type": "stream",
     "text": [
      "<class 'pandas.core.frame.DataFrame'>\n",
      "RangeIndex: 49688 entries, 0 to 49687\n",
      "Data columns (total 6 columns):\n",
      "product_id                49688 non-null uint16\n",
      "aisle_id                  49688 non-null uint8\n",
      "department_id             49688 non-null uint8\n",
      "product_ordered_num       49677 non-null float32\n",
      "product_reordered_num     49677 non-null float32\n",
      "product_reordered_rate    49677 non-null float32\n",
      "dtypes: float32(3), uint16(1), uint8(2)\n",
      "memory usage: 776.5 KB\n"
     ]
    }
   ],
   "source": [
    "products[\"product_ordered_num\"] = products[\"product_ordered_num\"].astype(np.float32)\n",
    "products.info()"
   ]
  },
  {
   "cell_type": "code",
   "execution_count": 5,
   "metadata": {},
   "outputs": [
    {
     "name": "stdout",
     "output_type": "stream",
     "text": [
      "<class 'pandas.core.frame.DataFrame'>\n",
      "UInt64Index: 3421083 entries, 2539329 to 272231\n",
      "Data columns (total 7 columns):\n",
      "order_id                  uint32\n",
      "user_id                   uint32\n",
      "eval_set                  object\n",
      "order_number              uint8\n",
      "order_dow                 uint8\n",
      "order_hour_of_day         uint8\n",
      "days_since_prior_order    float64\n",
      "dtypes: float64(1), object(1), uint32(2), uint8(3)\n",
      "memory usage: 114.2+ MB\n",
      "          order_id  user_id eval_set  order_number  order_dow  \\\n",
      "order_id                                                        \n",
      "2539329    2539329        1    prior             1          2   \n",
      "2398795    2398795        1    prior             2          3   \n",
      "473747      473747        1    prior             3          3   \n",
      "2254736    2254736        1    prior             4          4   \n",
      "431534      431534        1    prior             5          4   \n",
      "\n",
      "          order_hour_of_day  days_since_prior_order  \n",
      "order_id                                             \n",
      "2539329                   8                     NaN  \n",
      "2398795                   7                    15.0  \n",
      "473747                   12                    21.0  \n",
      "2254736                   7                    29.0  \n",
      "431534                   15                    28.0  \n"
     ]
    }
   ],
   "source": [
    "orders.info()\n",
    "print(orders.head(5))"
   ]
  },
  {
   "cell_type": "code",
   "execution_count": 6,
   "metadata": {},
   "outputs": [],
   "source": [
    "orders_tmp = prior.copy()"
   ]
  },
  {
   "cell_type": "code",
   "execution_count": 7,
   "metadata": {},
   "outputs": [
    {
     "name": "stdout",
     "output_type": "stream",
     "text": [
      "   order_id  product_id  add_to_cart_order  reordered  user_id eval_set  \\\n",
      "0         2       33120                  1          1   202279    prior   \n",
      "1         2       28985                  2          1   202279    prior   \n",
      "2         2        9327                  3          0   202279    prior   \n",
      "3         2       45918                  4          1   202279    prior   \n",
      "4         2       30035                  5          0   202279    prior   \n",
      "\n",
      "   order_number  order_dow  order_hour_of_day  days_since_prior_order  \n",
      "0             3          5                  9                     8.0  \n",
      "1             3          5                  9                     8.0  \n",
      "2             3          5                  9                     8.0  \n",
      "3             3          5                  9                     8.0  \n",
      "4             3          5                  9                     8.0  \n",
      "<class 'pandas.core.frame.DataFrame'>\n",
      "RangeIndex: 32434489 entries, 0 to 32434488\n",
      "Data columns (total 10 columns):\n",
      "order_id                  uint32\n",
      "product_id                uint16\n",
      "add_to_cart_order         uint8\n",
      "reordered                 uint8\n",
      "user_id                   uint32\n",
      "eval_set                  object\n",
      "order_number              uint8\n",
      "order_dow                 uint8\n",
      "order_hour_of_day         uint8\n",
      "days_since_prior_order    float64\n",
      "dtypes: float64(1), object(1), uint16(1), uint32(2), uint8(5)\n",
      "memory usage: 958.9+ MB\n"
     ]
    }
   ],
   "source": [
    "print(orders_tmp.head(5))\n",
    "orders_tmp.info()"
   ]
  },
  {
   "cell_type": "code",
   "execution_count": 8,
   "metadata": {},
   "outputs": [
    {
     "name": "stdout",
     "output_type": "stream",
     "text": [
      "                    userproduct_order_num  user_last_order\n",
      "user_id product_id                                        \n",
      "1       196                            10          3367565\n",
      "        10258                           9          3367565\n",
      "        10326                           1           431534\n",
      "        12427                          10          3367565\n",
      "        13032                           3          2550362\n"
     ]
    }
   ],
   "source": [
    "orders_tmp1 = pd.DataFrame()\n",
    "orders_tmp1[\"userproduct_order_num\"] = orders_tmp.groupby([\"user_id\",\"product_id\"]).size()\n",
    "orders_tmp1[\"user_last_order\"] = orders_tmp.groupby([\"user_id\",\"product_id\"])[\"order_id\"].agg('max')\n",
    "print(orders_tmp1.head(5))"
   ]
  },
  {
   "cell_type": "code",
   "execution_count": 9,
   "metadata": {},
   "outputs": [
    {
     "name": "stdout",
     "output_type": "stream",
     "text": [
      "<class 'pandas.core.frame.DataFrame'>\n",
      "Int64Index: 32434489 entries, 0 to 32434488\n",
      "Data columns (total 12 columns):\n",
      "order_id                  uint32\n",
      "product_id                uint16\n",
      "add_to_cart_order         uint8\n",
      "reordered                 uint8\n",
      "user_id                   uint32\n",
      "eval_set                  object\n",
      "order_number              uint8\n",
      "order_dow                 uint8\n",
      "order_hour_of_day         uint8\n",
      "days_since_prior_order    float64\n",
      "userproduct_order_num     int64\n",
      "user_last_order           uint32\n",
      "dtypes: float64(1), int64(1), object(1), uint16(1), uint32(3), uint8(5)\n",
      "memory usage: 1.5+ GB\n",
      "   order_id  product_id  add_to_cart_order  reordered  user_id eval_set  \\\n",
      "0         2       33120                  1          1   202279    prior   \n",
      "1    104690       33120                  2          1   202279    prior   \n",
      "2    132412       33120                  1          1   202279    prior   \n",
      "3   2808715       33120                  1          1   202279    prior   \n",
      "4   2894949       33120                  5          0   202279    prior   \n",
      "\n",
      "   order_number  order_dow  order_hour_of_day  days_since_prior_order  \\\n",
      "0             3          5                  9                     8.0   \n",
      "1             8          6                 10                    30.0   \n",
      "2             6          5                  9                    30.0   \n",
      "3             5          5                 13                     9.0   \n",
      "4             1          5                  9                     NaN   \n",
      "\n",
      "   userproduct_order_num  user_last_order  \n",
      "0                      5          2894949  \n",
      "1                      5          2894949  \n",
      "2                      5          2894949  \n",
      "3                      5          2894949  \n",
      "4                      5          2894949  \n"
     ]
    }
   ],
   "source": [
    "orders_tmp = pd.merge(orders_tmp,orders_tmp1,how = \"inner\",on = [\"user_id\",\"product_id\"])\n",
    "orders_tmp.info()\n",
    "print(orders_tmp.head(5))"
   ]
  },
  {
   "cell_type": "code",
   "execution_count": 10,
   "metadata": {},
   "outputs": [
    {
     "name": "stdout",
     "output_type": "stream",
     "text": [
      "          order_id  product_id  add_to_cart_order  reordered  user_id  \\\n",
      "15038552    431534         196                  1          1        1   \n",
      "15038553    473747         196                  1          1        1   \n",
      "15038554    550135         196                  1          1        1   \n",
      "15038555   2254736         196                  1          1        1   \n",
      "15038556   2295261         196                  4          1        1   \n",
      "15038557   2398795         196                  1          1        1   \n",
      "15038558   2539329         196                  1          0        1   \n",
      "15038559   2550362         196                  1          1        1   \n",
      "15038560   3108588         196                  2          1        1   \n",
      "15038561   3367565         196                  1          1        1   \n",
      "\n",
      "         eval_set  order_number  order_dow  order_hour_of_day  \\\n",
      "15038552    prior             5          4                 15   \n",
      "15038553    prior             3          3                 12   \n",
      "15038554    prior             7          1                  9   \n",
      "15038555    prior             4          4                  7   \n",
      "15038556    prior             9          1                 16   \n",
      "15038557    prior             2          3                  7   \n",
      "15038558    prior             1          2                  8   \n",
      "15038559    prior            10          4                  8   \n",
      "15038560    prior             8          1                 14   \n",
      "15038561    prior             6          2                  7   \n",
      "\n",
      "          days_since_prior_order  userproduct_order_num  user_last_order  \n",
      "15038552                    28.0                     10          3367565  \n",
      "15038553                    21.0                     10          3367565  \n",
      "15038554                    20.0                     10          3367565  \n",
      "15038555                    29.0                     10          3367565  \n",
      "15038556                     0.0                     10          3367565  \n",
      "15038557                    15.0                     10          3367565  \n",
      "15038558                     NaN                     10          3367565  \n",
      "15038559                    30.0                     10          3367565  \n",
      "15038560                    14.0                     10          3367565  \n",
      "15038561                    19.0                     10          3367565  \n",
      "          order_id  product_id  add_to_cart_order  reordered  user_id  \\\n",
      "15038572    431534       10258                  3          1        1   \n",
      "15038573    473747       10258                  3          1        1   \n",
      "15038574    550135       10258                  2          1        1   \n",
      "15038575   2254736       10258                  3          1        1   \n",
      "15038576   2295261       10258                  5          1        1   \n",
      "15038577   2398795       10258                  2          0        1   \n",
      "15038578   2550362       10258                  6          1        1   \n",
      "15038579   3108588       10258                  3          1        1   \n",
      "15038580   3367565       10258                  3          1        1   \n",
      "\n",
      "         eval_set  order_number  order_dow  order_hour_of_day  \\\n",
      "15038572    prior             5          4                 15   \n",
      "15038573    prior             3          3                 12   \n",
      "15038574    prior             7          1                  9   \n",
      "15038575    prior             4          4                  7   \n",
      "15038576    prior             9          1                 16   \n",
      "15038577    prior             2          3                  7   \n",
      "15038578    prior            10          4                  8   \n",
      "15038579    prior             8          1                 14   \n",
      "15038580    prior             6          2                  7   \n",
      "\n",
      "          days_since_prior_order  userproduct_order_num  user_last_order  \n",
      "15038572                    28.0                      9          3367565  \n",
      "15038573                    21.0                      9          3367565  \n",
      "15038574                    20.0                      9          3367565  \n",
      "15038575                    29.0                      9          3367565  \n",
      "15038576                     0.0                      9          3367565  \n",
      "15038577                    15.0                      9          3367565  \n",
      "15038578                    30.0                      9          3367565  \n",
      "15038579                    14.0                      9          3367565  \n",
      "15038580                    19.0                      9          3367565  \n",
      "          order_id  product_id  add_to_cart_order  reordered  user_id  \\\n",
      "15038589    431534       10326                  5          0        1   \n",
      "\n",
      "         eval_set  order_number  order_dow  order_hour_of_day  \\\n",
      "15038589    prior             5          4                 15   \n",
      "\n",
      "          days_since_prior_order  userproduct_order_num  user_last_order  \n",
      "15038589                    28.0                      1           431534  \n",
      "          order_id  product_id  add_to_cart_order  reordered  user_id  \\\n",
      "15038562    431534       12427                  2          1        1   \n",
      "15038563    473747       12427                  2          1        1   \n",
      "15038564    550135       12427                  3          1        1   \n",
      "15038565   2254736       12427                  2          1        1   \n",
      "15038566   2295261       12427                  6          1        1   \n",
      "15038567   2398795       12427                  3          1        1   \n",
      "15038568   2539329       12427                  3          0        1   \n",
      "15038569   2550362       12427                  9          1        1   \n",
      "15038570   3108588       12427                  1          1        1   \n",
      "15038571   3367565       12427                  2          1        1   \n",
      "\n",
      "         eval_set  order_number  order_dow  order_hour_of_day  \\\n",
      "15038562    prior             5          4                 15   \n",
      "15038563    prior             3          3                 12   \n",
      "15038564    prior             7          1                  9   \n",
      "15038565    prior             4          4                  7   \n",
      "15038566    prior             9          1                 16   \n",
      "15038567    prior             2          3                  7   \n",
      "15038568    prior             1          2                  8   \n",
      "15038569    prior            10          4                  8   \n",
      "15038570    prior             8          1                 14   \n",
      "15038571    prior             6          2                  7   \n",
      "\n",
      "          days_since_prior_order  userproduct_order_num  user_last_order  \n",
      "15038562                    28.0                     10          3367565  \n",
      "15038563                    21.0                     10          3367565  \n",
      "15038564                    20.0                     10          3367565  \n",
      "15038565                    29.0                     10          3367565  \n",
      "15038566                     0.0                     10          3367565  \n",
      "15038567                    15.0                     10          3367565  \n",
      "15038568                     NaN                     10          3367565  \n",
      "15038569                    30.0                     10          3367565  \n",
      "15038570                    14.0                     10          3367565  \n",
      "15038571                    19.0                     10          3367565  \n",
      "          order_id  product_id  add_to_cart_order  reordered  user_id  \\\n",
      "17012815    550135       13032                  5          1        1   \n",
      "17012816   2398795       13032                  6          0        1   \n",
      "17012817   2550362       13032                  8          1        1   \n",
      "\n",
      "         eval_set  order_number  order_dow  order_hour_of_day  \\\n",
      "17012815    prior             7          1                  9   \n",
      "17012816    prior             2          3                  7   \n",
      "17012817    prior            10          4                  8   \n",
      "\n",
      "          days_since_prior_order  userproduct_order_num  user_last_order  \n",
      "17012815                    20.0                      3          2550362  \n",
      "17012816                    15.0                      3          2550362  \n",
      "17012817                    30.0                      3          2550362  \n"
     ]
    }
   ],
   "source": [
    "print(orders_tmp[(orders_tmp.user_id == 1)&(orders_tmp.product_id == 196)])\n",
    "print(orders_tmp[(orders_tmp.user_id == 1)&(orders_tmp.product_id == 10258)])\n",
    "print(orders_tmp[(orders_tmp.user_id == 1)&(orders_tmp.product_id == 10326)])\n",
    "print(orders_tmp[(orders_tmp.user_id == 1)&(orders_tmp.product_id == 12427)])\n",
    "print(orders_tmp[(orders_tmp.user_id == 1)&(orders_tmp.product_id == 13032)])"
   ]
  },
  {
   "cell_type": "code",
   "execution_count": 11,
   "metadata": {},
   "outputs": [
    {
     "name": "stdout",
     "output_type": "stream",
     "text": [
      "          order_id  product_id  add_to_cart_order  reordered  user_id  \\\n",
      "15038554    550135         196                  1          1        1   \n",
      "15038564    550135       12427                  3          1        1   \n",
      "15038574    550135       10258                  2          1        1   \n",
      "15038583    550135       25133                  4          1        1   \n",
      "17012815    550135       13032                  5          1        1   \n",
      "\n",
      "         eval_set  order_number  order_dow  order_hour_of_day  \\\n",
      "15038554    prior             7          1                  9   \n",
      "15038564    prior             7          1                  9   \n",
      "15038574    prior             7          1                  9   \n",
      "15038583    prior             7          1                  9   \n",
      "17012815    prior             7          1                  9   \n",
      "\n",
      "          days_since_prior_order  userproduct_order_num  user_last_order  \n",
      "15038554                    20.0                     10          3367565  \n",
      "15038564                    20.0                     10          3367565  \n",
      "15038574                    20.0                      9          3367565  \n",
      "15038583                    20.0                      8          3367565  \n",
      "17012815                    20.0                      3          2550362  \n"
     ]
    }
   ],
   "source": [
    "print(orders_tmp[(orders_tmp.order_id == 550135)])"
   ]
  },
  {
   "cell_type": "code",
   "execution_count": 12,
   "metadata": {},
   "outputs": [
    {
     "name": "stdout",
     "output_type": "stream",
     "text": [
      "          order_id  product_id  add_to_cart_order  reordered  user_id  \\\n",
      "1093            13         196                  4          0    45082   \n",
      "4373            68         196                  5          1    96594   \n",
      "4374        685669         196                  1          1    96594   \n",
      "4375        800858         196                  5          1    96594   \n",
      "4376       1446782         196                  1          1    96594   \n",
      "4377       2183136         196                  1          1    96594   \n",
      "4378       2633548         196                  1          0    96594   \n",
      "6734           100         196                  2          0    62781   \n",
      "6735        601311         196                  1          1    62781   \n",
      "6736       3386141         196                  1          1    62781   \n",
      "13944          200         196                  2          1    21425   \n",
      "13945       463002         196                  1          1    21425   \n",
      "13946       511821         196                  1          1    21425   \n",
      "13947      1059370         196                  1          1    21425   \n",
      "13948      1077701         196                  2          1    21425   \n",
      "13949      1959988         196                  1          1    21425   \n",
      "13950      3179406         196                  1          0    21425   \n",
      "13951      3336384         196                  1          1    21425   \n",
      "22612          307         196                  4          1   177808   \n",
      "22613      1554852         196                  4          0   177808   \n",
      "22614      2085341         196                  2          1   177808   \n",
      "23098          316         196                  3          1   190581   \n",
      "23099       355759         196                  2          0   190581   \n",
      "23100      1527436         196                  1          1   190581   \n",
      "23101      3272042         196                  2          1   190581   \n",
      "26396          354         196                  7          1    25862   \n",
      "26397       112408         196                  6          1    25862   \n",
      "26398       419011         196                  2          1    25862   \n",
      "26399       490446         196                  2          1    25862   \n",
      "26400       997189         196                  4          1    25862   \n",
      "...            ...         ...                ...        ...      ...   \n",
      "32354474   3387178         196                  5          0    64871   \n",
      "32363138   3390906         196                 18          0   144702   \n",
      "32363199   3390924         196                  1          0    29340   \n",
      "32364980   3391651         196                 10          0   195028   \n",
      "32369307   3393380         196                  8          0   172328   \n",
      "32369394   3393407         196                  1          0    16463   \n",
      "32376813   3396501         196                 25          0   111084   \n",
      "32380363   3397972         196                  2          0   166408   \n",
      "32383787   3399437         196                 11          0    60623   \n",
      "32383905   3399485         196                  2          0   140713   \n",
      "32384326   3399678         196                  7          0     4277   \n",
      "32387545   3401044         196                  5          0    17430   \n",
      "32398515   3405721         196                 21          0   140256   \n",
      "32399428   3406061         196                  4          0   188334   \n",
      "32400013   3406314         196                  3          0   113354   \n",
      "32400594   3406600         196                  4          0    70153   \n",
      "32401560   3407044         196                  6          0   118176   \n",
      "32404398   3408153         196                  1          0   202583   \n",
      "32404463   3408190         196                  3          0    56384   \n",
      "32408598   3409991         196                 21          0     2502   \n",
      "32414874   3412726         196                  1          0   129647   \n",
      "32414920   3412740         196                  3          0    23012   \n",
      "32420902   3415203         196                  1          0   101418   \n",
      "32422181   3415768         196                 10          0   163055   \n",
      "32423009   3416133         196                  8          0    26269   \n",
      "32425699   3417282         196                  3          0   130418   \n",
      "32427020   3417851         196                  3          0    60660   \n",
      "32427487   3418058         196                 20          0   127898   \n",
      "32430235   3419323         196                  1          0    75179   \n",
      "32431723   3419968         196                  3          0    63043   \n",
      "\n",
      "         eval_set  order_number  order_dow  order_hour_of_day  \\\n",
      "1093        prior             2          6                 17   \n",
      "4373        prior             3          3                 10   \n",
      "4374        prior             4          2                 10   \n",
      "4375        prior             6          2                 14   \n",
      "4376        prior             5          1                 11   \n",
      "4377        prior             7          2                 10   \n",
      "4378        prior             2          5                 10   \n",
      "6734        prior             1          2                 13   \n",
      "6735        prior             2          1                 14   \n",
      "6736        prior             3          2                 11   \n",
      "13944       prior             2          5                 22   \n",
      "13945       prior             8          5                 22   \n",
      "13946       prior             4          6                 11   \n",
      "13947       prior             6          4                 20   \n",
      "13948       prior             3          6                 12   \n",
      "13949       prior             5          5                 18   \n",
      "13950       prior             1          5                 22   \n",
      "13951       prior             7          5                 23   \n",
      "22612       prior             2          4                 11   \n",
      "22613       prior             1          1                  9   \n",
      "22614       prior             3          4                 13   \n",
      "23098       prior             6          1                 11   \n",
      "23099       prior             1          3                 10   \n",
      "23100       prior             3          6                 11   \n",
      "23101       prior             4          2                 14   \n",
      "26396       prior            19          5                 10   \n",
      "26397       prior            10          1                 17   \n",
      "26398       prior            17          6                 13   \n",
      "26399       prior             8          5                 17   \n",
      "26400       prior            18          4                 12   \n",
      "...           ...           ...        ...                ...   \n",
      "32354474    prior             3          0                 18   \n",
      "32363138    prior             3          1                 19   \n",
      "32363199    prior             2          1                 16   \n",
      "32364980    prior             4          6                 14   \n",
      "32369307    prior             4          1                  9   \n",
      "32369394    prior             2          2                  9   \n",
      "32376813    prior             2          2                 15   \n",
      "32380363    prior             1          6                 11   \n",
      "32383787    prior             6          0                 14   \n",
      "32383905    prior             4          1                 12   \n",
      "32384326    prior             1          0                  9   \n",
      "32387545    prior             4          6                 12   \n",
      "32398515    prior             9          0                 14   \n",
      "32399428    prior             6          5                  0   \n",
      "32400013    prior             8          4                  6   \n",
      "32400594    prior             2          0                 15   \n",
      "32401560    prior             4          1                  7   \n",
      "32404398    prior             2          4                 17   \n",
      "32404463    prior            38          5                 13   \n",
      "32408598    prior             5          3                 16   \n",
      "32414874    prior            33          4                 16   \n",
      "32414920    prior             7          1                 14   \n",
      "32420902    prior            35          3                 15   \n",
      "32422181    prior            12          1                 20   \n",
      "32423009    prior            32          5                  8   \n",
      "32425699    prior             7          0                 10   \n",
      "32427020    prior             2          6                 15   \n",
      "32427487    prior            17          1                 16   \n",
      "32430235    prior            16          1                 20   \n",
      "32431723    prior             4          5                 16   \n",
      "\n",
      "          days_since_prior_order  userproduct_order_num  user_last_order  \n",
      "1093                         1.0                      1               13  \n",
      "4373                        30.0                      6          2633548  \n",
      "4374                        30.0                      6          2633548  \n",
      "4375                        30.0                      6          2633548  \n",
      "4376                        30.0                      6          2633548  \n",
      "4377                        21.0                      6          2633548  \n",
      "4378                        30.0                      6          2633548  \n",
      "6734                         NaN                      3          3386141  \n",
      "6735                        30.0                      3          3386141  \n",
      "6736                        30.0                      3          3386141  \n",
      "13944                       21.0                      8          3336384  \n",
      "13945                       30.0                      8          3336384  \n",
      "13946                       30.0                      8          3336384  \n",
      "13947                       30.0                      8          3336384  \n",
      "13948                       30.0                      8          3336384  \n",
      "13949                       30.0                      8          3336384  \n",
      "13950                        NaN                      8          3336384  \n",
      "13951                       30.0                      8          3336384  \n",
      "22612                       10.0                      3          2085341  \n",
      "22613                        NaN                      3          2085341  \n",
      "22614                       14.0                      3          2085341  \n",
      "23098                       30.0                      4          3272042  \n",
      "23099                        NaN                      4          3272042  \n",
      "23100                       16.0                      4          3272042  \n",
      "23101                       30.0                      4          3272042  \n",
      "26396                        8.0                     18          3052960  \n",
      "26397                       30.0                     18          3052960  \n",
      "26398                        7.0                     18          3052960  \n",
      "26399                       30.0                     18          3052960  \n",
      "26400                        5.0                     18          3052960  \n",
      "...                          ...                    ...              ...  \n",
      "32354474                     0.0                      1          3387178  \n",
      "32363138                     8.0                      1          3390906  \n",
      "32363199                    12.0                      1          3390924  \n",
      "32364980                    30.0                      1          3391651  \n",
      "32369307                     3.0                      1          3393380  \n",
      "32369394                     7.0                      1          3393407  \n",
      "32376813                    28.0                      1          3396501  \n",
      "32380363                     NaN                      1          3397972  \n",
      "32383787                     3.0                      1          3399437  \n",
      "32383905                    13.0                      1          3399485  \n",
      "32384326                     NaN                      1          3399678  \n",
      "32387545                     3.0                      1          3401044  \n",
      "32398515                     7.0                      1          3405721  \n",
      "32399428                     7.0                      1          3406061  \n",
      "32400013                    19.0                      1          3406314  \n",
      "32400594                    30.0                      1          3406600  \n",
      "32401560                    15.0                      1          3407044  \n",
      "32404398                     5.0                      1          3408153  \n",
      "32404463                     5.0                      1          3408190  \n",
      "32408598                    11.0                      1          3409991  \n",
      "32414874                     1.0                      1          3412726  \n",
      "32414920                     4.0                      1          3412740  \n",
      "32420902                     3.0                      1          3415203  \n",
      "32422181                    14.0                      1          3415768  \n",
      "32423009                     7.0                      1          3416133  \n",
      "32425699                    30.0                      1          3417282  \n",
      "32427020                    30.0                      1          3417851  \n",
      "32427487                     7.0                      1          3418058  \n",
      "32430235                    30.0                      1          3419323  \n",
      "32431723                    12.0                      1          3419968  \n",
      "\n",
      "[35791 rows x 12 columns]\n"
     ]
    }
   ],
   "source": [
    "print(orders_tmp[(orders_tmp.product_id == 196)])"
   ]
  },
  {
   "cell_type": "code",
   "execution_count": 13,
   "metadata": {},
   "outputs": [
    {
     "name": "stdout",
     "output_type": "stream",
     "text": [
      "<class 'pandas.core.frame.DataFrame'>\n",
      "Int64Index: 32434489 entries, 0 to 32434488\n",
      "Data columns (total 12 columns):\n",
      "order_id                  uint32\n",
      "product_id                uint16\n",
      "add_to_cart_order         uint8\n",
      "reordered                 uint8\n",
      "user_id                   uint32\n",
      "eval_set                  object\n",
      "order_number              uint8\n",
      "order_dow                 uint8\n",
      "order_hour_of_day         uint8\n",
      "days_since_prior_order    float32\n",
      "userproduct_order_num     uint16\n",
      "user_last_order           uint32\n",
      "dtypes: float32(1), object(1), uint16(2), uint32(3), uint8(5)\n",
      "memory usage: 1.2+ GB\n"
     ]
    }
   ],
   "source": [
    "orders_tmp[\"userproduct_order_num\"] = orders_tmp[\"userproduct_order_num\"].astype(np.uint16)\n",
    "orders_tmp[\"days_since_prior_order\"] = orders_tmp[\"days_since_prior_order\"].astype(np.float32)\n",
    "orders_tmp.info()"
   ]
  },
  {
   "cell_type": "code",
   "execution_count": 14,
   "metadata": {},
   "outputs": [],
   "source": [
    "del orders_tmp1"
   ]
  },
  {
   "cell_type": "code",
   "execution_count": 15,
   "metadata": {},
   "outputs": [
    {
     "name": "stdout",
     "output_type": "stream",
     "text": [
      "<class 'pandas.core.frame.DataFrame'>\n",
      "UInt64Index: 131209 entries, 1187899 to 272231\n",
      "Data columns (total 7 columns):\n",
      "order_id                  131209 non-null uint32\n",
      "user_id                   131209 non-null uint32\n",
      "eval_set                  131209 non-null object\n",
      "order_number              131209 non-null uint8\n",
      "order_dow                 131209 non-null uint8\n",
      "order_hour_of_day         131209 non-null uint8\n",
      "days_since_prior_order    131209 non-null float32\n",
      "dtypes: float32(1), object(1), uint32(2), uint8(3)\n",
      "memory usage: 3.9+ MB\n"
     ]
    },
    {
     "name": "stderr",
     "output_type": "stream",
     "text": [
      "/Users/yuki/anaconda3/lib/python3.7/site-packages/ipykernel_launcher.py:2: SettingWithCopyWarning: \n",
      "A value is trying to be set on a copy of a slice from a DataFrame.\n",
      "Try using .loc[row_indexer,col_indexer] = value instead\n",
      "\n",
      "See the caveats in the documentation: http://pandas.pydata.org/pandas-docs/stable/indexing.html#indexing-view-versus-copy\n",
      "  \n"
     ]
    }
   ],
   "source": [
    "train_set = orders[orders.eval_set =='train']\n",
    "train_set[\"days_since_prior_order\"] = train_set[\"days_since_prior_order\"].astype(np.float32)\n",
    "train_set.info()"
   ]
  },
  {
   "cell_type": "code",
   "execution_count": 16,
   "metadata": {},
   "outputs": [
    {
     "name": "stdout",
     "output_type": "stream",
     "text": [
      "<class 'pandas.core.frame.DataFrame'>\n",
      "MultiIndex: 1384617 entries, (1, 49302) to (3421070, 4724)\n",
      "Data columns (total 4 columns):\n",
      "order_id             1384617 non-null uint32\n",
      "product_id           1384617 non-null uint16\n",
      "add_to_cart_order    1384617 non-null uint8\n",
      "reordered            1384617 non-null uint8\n",
      "dtypes: uint16(1), uint32(1), uint8(2)\n",
      "memory usage: 22.4 MB\n"
     ]
    }
   ],
   "source": [
    "order_id_list = []\n",
    "product_id_list = []\n",
    "label = []\n",
    "train.set_index([\"order_id\",\"product_id\"],inplace = True, drop = False)\n",
    "train.info()"
   ]
  },
  {
   "cell_type": "code",
   "execution_count": 17,
   "metadata": {},
   "outputs": [
    {
     "name": "stdout",
     "output_type": "stream",
     "text": [
      "<class 'pandas.core.frame.DataFrame'>\n",
      "MultiIndex: 1384617 entries, (1, 49302) to (3421070, 4724)\n",
      "Data columns (total 4 columns):\n",
      "order_id             1384617 non-null uint32\n",
      "product_id           1384617 non-null uint16\n",
      "add_to_cart_order    1384617 non-null uint8\n",
      "reordered            1384617 non-null uint8\n",
      "dtypes: uint16(1), uint32(1), uint8(2)\n",
      "memory usage: 22.4 MB\n"
     ]
    }
   ],
   "source": [
    "train.info()"
   ]
  },
  {
   "cell_type": "code",
   "execution_count": 18,
   "metadata": {},
   "outputs": [],
   "source": [
    "i = 0\n",
    "for data in train_set.itertuples():\n",
    "    i+=1\n",
    "    if(i%10000 == 0):\n",
    "        print(i)\n",
    "    product_tmp_list = []\n",
    "    order_id = data.order_id\n",
    "    user_id = data.user_id\n",
    "    for i in user_tmp.products_list[user_id]:\n",
    "        product_id_list.append(i)\n",
    "        order_id_list.append(order_id)\n",
    "        product_tmp_list.append(i)\n",
    "    if(len(order_id_list) != len(product_id_list)):\n",
    "        print(len(order_id_list))\n",
    "        print(len(product_id_list))\n",
    "    label += [(order_id,product) in train.index for product in product_tmp_list]"
   ]
  },
  {
   "cell_type": "code",
   "execution_count": 19,
   "metadata": {},
   "outputs": [
    {
     "name": "stdout",
     "output_type": "stream",
     "text": [
      "8474661\n",
      "8474661\n"
     ]
    }
   ],
   "source": [
    "train_dict = {'order_id': order_id_list,'product_id':product_id_list}\n",
    "print(len(order_id_list))\n",
    "print(len(product_id_list))"
   ]
  },
  {
   "cell_type": "code",
   "execution_count": 20,
   "metadata": {},
   "outputs": [
    {
     "name": "stdout",
     "output_type": "stream",
     "text": [
      "<class 'pandas.core.frame.DataFrame'>\n",
      "RangeIndex: 8474661 entries, 0 to 8474660\n",
      "Data columns (total 8 columns):\n",
      "order_id                           int64\n",
      "product_id                         int64\n",
      "user_id                            uint32\n",
      "user_orders_num                    int16\n",
      "user_history_item_num              int16\n",
      "user_history_different_item_num    int64\n",
      "user_order_frequency_bydays        float32\n",
      "user_average_order                 float32\n",
      "dtypes: float32(2), int16(2), int64(3), uint32(1)\n",
      "memory usage: 323.3 MB\n"
     ]
    }
   ],
   "source": [
    "train_set = pd.DataFrame(train_dict)\n",
    "train_set[\"user_id\"] = train_set.order_id.map(orders.user_id)\n",
    "train_set['user_orders_num'] = train_set.user_id.map(user_tmp.total_orders)\n",
    "train_set['user_history_item_num'] = train_set.user_id.map(user_tmp.item_sum)\n",
    "train_set['user_history_different_item_num'] = train_set.user_id.map(user_tmp.unique_products_num)\n",
    "train_set['user_order_frequency_bydays'] = train_set.user_id.map(user_tmp.orders_frequency_days)\n",
    "train_set['user_average_order'] = train_set.user_id.map(user_tmp.items_order)\n",
    "train_set.info()"
   ]
  },
  {
   "cell_type": "code",
   "execution_count": 21,
   "metadata": {},
   "outputs": [
    {
     "name": "stdout",
     "output_type": "stream",
     "text": [
      "<class 'pandas.core.frame.DataFrame'>\n",
      "RangeIndex: 8474661 entries, 0 to 8474660\n",
      "Data columns (total 16 columns):\n",
      "order_id                           int64\n",
      "product_id                         int64\n",
      "user_id                            uint32\n",
      "user_orders_num                    int16\n",
      "user_history_item_num              int16\n",
      "user_history_different_item_num    int64\n",
      "user_order_frequency_bydays        float32\n",
      "user_average_order                 float32\n",
      "order_hour_of_day                  uint8\n",
      "days_since_prior_order             float64\n",
      "day_weight                         float64\n",
      "aisle_id                           float64\n",
      "department_id                      float64\n",
      "product_ordered_num                float32\n",
      "product_reordered_num              float32\n",
      "product_reordered_rate             float32\n",
      "dtypes: float32(5), float64(4), int16(2), int64(3), uint32(1), uint8(1)\n",
      "memory usage: 687.0 MB\n"
     ]
    }
   ],
   "source": [
    "train_set[\"order_hour_of_day\"] =  train_set.order_id.map(orders.order_hour_of_day)\n",
    "train_set[\"days_since_prior_order\"] = train_set.order_id.map(orders.days_since_prior_order)\n",
    "train_set[\"day_weight\"] = train_set.days_since_prior_order/train_set.user_order_frequency_bydays\n",
    "train_set[\"aisle_id\"] = train_set.product_id.map(products.aisle_id)\n",
    "train_set[\"department_id\"] = train_set.product_id.map(products.department_id)\n",
    "train_set[\"product_ordered_num\"] = train_set.product_id.map(products.product_ordered_num)\n",
    "train_set[\"product_reordered_num\"] = train_set.product_id.map(products.product_reordered_num)\n",
    "train_set[\"product_reordered_rate\"] = train_set.product_id.map(products.product_reordered_rate)\n",
    "train_set.info()"
   ]
  },
  {
   "cell_type": "code",
   "execution_count": 22,
   "metadata": {},
   "outputs": [
    {
     "name": "stdout",
     "output_type": "stream",
     "text": [
      "<class 'pandas.core.frame.DataFrame'>\n",
      "Int64Index: 32434489 entries, 0 to 32434488\n",
      "Data columns (total 13 columns):\n",
      "order_id                  uint32\n",
      "product_id                uint16\n",
      "add_to_cart_order         uint8\n",
      "reordered                 uint8\n",
      "user_id                   uint32\n",
      "eval_set                  object\n",
      "order_number              uint8\n",
      "order_dow                 uint8\n",
      "order_hour_of_day         uint8\n",
      "days_since_prior_order    float32\n",
      "userproduct_order_num     uint16\n",
      "user_last_order           uint32\n",
      "sub_index                 uint32\n",
      "dtypes: float32(1), object(1), uint16(2), uint32(4), uint8(5)\n",
      "memory usage: 1.4+ GB\n"
     ]
    }
   ],
   "source": [
    "orders_tmp[\"sub_index\"] = orders_tmp.user_id*1000000+orders_tmp.product_id\n",
    "orders_tmp.info()"
   ]
  },
  {
   "cell_type": "code",
   "execution_count": 23,
   "metadata": {},
   "outputs": [
    {
     "name": "stdout",
     "output_type": "stream",
     "text": [
      "<class 'pandas.core.frame.DataFrame'>\n",
      "RangeIndex: 8474661 entries, 0 to 8474660\n",
      "Data columns (total 20 columns):\n",
      "order_id                           int64\n",
      "product_id                         int64\n",
      "user_id                            uint32\n",
      "user_orders_num                    int16\n",
      "user_history_item_num              int16\n",
      "user_history_different_item_num    int64\n",
      "user_order_frequency_bydays        float32\n",
      "user_average_order                 float32\n",
      "order_hour_of_day                  uint8\n",
      "days_since_prior_order             float64\n",
      "day_weight                         float64\n",
      "aisle_id                           float64\n",
      "department_id                      float64\n",
      "product_ordered_num                float32\n",
      "product_reordered_num              float32\n",
      "product_reordered_rate             float32\n",
      "sub_index                          int64\n",
      "userproduct_order_num              float64\n",
      "userproduct_order_rate             float64\n",
      "userproduct_last_order             float64\n",
      "dtypes: float32(5), float64(7), int16(2), int64(4), uint32(1), uint8(1)\n",
      "memory usage: 945.6 MB\n"
     ]
    }
   ],
   "source": [
    "train_set[\"sub_index\"] = train_set.user_id*1000000+train_set.product_id\n",
    "train_set[\"userproduct_order_num\"] = train_set.sub_index.map(orders_tmp.userproduct_order_num)\n",
    "train_set[\"userproduct_order_rate\"] = train_set.userproduct_order_num/train_set.user_orders_num\n",
    "train_set[\"userproduct_last_order\"] = train_set.sub_index.map(orders_tmp.user_last_order)\n",
    "train_set.info()"
   ]
  },
  {
   "cell_type": "code",
   "execution_count": 24,
   "metadata": {},
   "outputs": [],
   "source": [
    "train_set[\"userproduct_reorder_rate\"] = train_set.product_ordered_num/train_set.user_orders_num"
   ]
  },
  {
   "cell_type": "code",
   "execution_count": 25,
   "metadata": {},
   "outputs": [],
   "source": [
    "train_set.drop([\"sub_index\"],axis = 1, inplace = True)"
   ]
  },
  {
   "cell_type": "code",
   "execution_count": 26,
   "metadata": {},
   "outputs": [],
   "source": [
    "train_set.to_csv(\"./data/train_set.csv\")"
   ]
  },
  {
   "cell_type": "code",
   "execution_count": 27,
   "metadata": {},
   "outputs": [
    {
     "name": "stdout",
     "output_type": "stream",
     "text": [
      "True\n"
     ]
    }
   ],
   "source": [
    "print(label[1])"
   ]
  },
  {
   "cell_type": "code",
   "execution_count": 28,
   "metadata": {},
   "outputs": [],
   "source": [
    "label_dict = {\"label\":label}\n",
    "label_df = pd.DataFrame(label_dict)\n",
    "label_df.to_csv(\"./data/label.csv\")"
   ]
  },
  {
   "cell_type": "code",
   "execution_count": 29,
   "metadata": {},
   "outputs": [
    {
     "name": "stderr",
     "output_type": "stream",
     "text": [
      "/Users/yuki/anaconda3/lib/python3.7/site-packages/ipykernel_launcher.py:2: SettingWithCopyWarning: \n",
      "A value is trying to be set on a copy of a slice from a DataFrame.\n",
      "Try using .loc[row_indexer,col_indexer] = value instead\n",
      "\n",
      "See the caveats in the documentation: http://pandas.pydata.org/pandas-docs/stable/indexing.html#indexing-view-versus-copy\n",
      "  \n"
     ]
    },
    {
     "name": "stdout",
     "output_type": "stream",
     "text": [
      "<class 'pandas.core.frame.DataFrame'>\n",
      "UInt64Index: 75000 entries, 2774568 to 803273\n",
      "Data columns (total 7 columns):\n",
      "order_id                  75000 non-null uint32\n",
      "user_id                   75000 non-null uint32\n",
      "eval_set                  75000 non-null object\n",
      "order_number              75000 non-null uint8\n",
      "order_dow                 75000 non-null uint8\n",
      "order_hour_of_day         75000 non-null uint8\n",
      "days_since_prior_order    75000 non-null float32\n",
      "dtypes: float32(1), object(1), uint32(2), uint8(3)\n",
      "memory usage: 2.2+ MB\n"
     ]
    }
   ],
   "source": [
    "train_set = orders[orders.eval_set =='test']\n",
    "train_set[\"days_since_prior_order\"] = train_set[\"days_since_prior_order\"].astype(np.float32)\n",
    "train_set.info()\n",
    "order_id_list = []\n",
    "product_id_list = []\n",
    "train.set_index([\"order_id\",\"product_id\"],inplace = True, drop = False)\n",
    "i = 0\n",
    "for data in train_set.itertuples():\n",
    "    i+=1\n",
    "    if(i%10000 == 0):\n",
    "        print(i)\n",
    "    product_tmp_list = []\n",
    "    order_id = data.order_id\n",
    "    user_id = data.user_id\n",
    "    for i in user_tmp.products_list[user_id]:\n",
    "        product_id_list.append(i)\n",
    "        order_id_list.append(order_id)\n",
    "        product_tmp_list.append(i)\n",
    "    if(len(order_id_list) != len(product_id_list)):\n",
    "        print(len(order_id_list))\n",
    "        print(len(product_id_list))\n",
    "train_dict = {'order_id': order_id_list,'product_id':product_id_list}\n",
    "train_set = pd.DataFrame(train_dict)\n",
    "train_set[\"user_id\"] = train_set.order_id.map(orders.user_id)\n",
    "train_set['user_orders_num'] = train_set.user_id.map(user_tmp.total_orders)\n",
    "train_set['user_history_item_num'] = train_set.user_id.map(user_tmp.item_sum)\n",
    "train_set['user_history_different_item_num'] = train_set.user_id.map(user_tmp.unique_products_num)\n",
    "train_set['user_order_frequency_bydays'] = train_set.user_id.map(user_tmp.orders_frequency_days)\n",
    "train_set['user_average_order'] = train_set.user_id.map(user_tmp.items_order)\n",
    "train_set[\"order_hour_of_day\"] =  train_set.order_id.map(orders.order_hour_of_day)\n",
    "train_set[\"days_since_prior_order\"] = train_set.order_id.map(orders.days_since_prior_order)\n",
    "train_set[\"day_weight\"] = train_set.days_since_prior_order/train_set.user_order_frequency_bydays\n",
    "train_set[\"aisle_id\"] = train_set.product_id.map(products.aisle_id)\n",
    "train_set[\"department_id\"] = train_set.product_id.map(products.department_id)\n",
    "train_set[\"product_ordered_num\"] = train_set.product_id.map(products.product_ordered_num)\n",
    "train_set[\"product_reordered_num\"] = train_set.product_id.map(products.product_reordered_num)\n",
    "train_set[\"product_reordered_rate\"] = train_set.product_id.map(products.product_reordered_rate)\n",
    "orders_tmp[\"sub_index\"] = orders_tmp.user_id*1000000+orders_tmp.product_id\n",
    "train_set[\"sub_index\"] = train_set.user_id*1000000+train_set.product_id\n",
    "train_set[\"userproduct_order_num\"] = train_set.sub_index.map(orders_tmp.userproduct_order_num)\n",
    "train_set[\"userproduct_order_rate\"] = train_set.userproduct_order_num/train_set.user_orders_num\n",
    "train_set[\"userproduct_last_order\"] = train_set.sub_index.map(orders_tmp.user_last_order)\n",
    "train_set[\"userproduct_reorder_rate\"] = train_set.product_ordered_num/train_set.user_orders_num\n",
    "train_set.drop([\"sub_index\"],axis = 1, inplace = True)\n",
    "train_set.to_csv(\"./data/test_set.csv\")"
   ]
  },
  {
   "cell_type": "code",
   "execution_count": null,
   "metadata": {},
   "outputs": [],
   "source": []
  }
 ],
 "metadata": {
  "kernelspec": {
   "display_name": "Python 3",
   "language": "python",
   "name": "python3"
  },
  "language_info": {
   "codemirror_mode": {
    "name": "ipython",
    "version": 3
   },
   "file_extension": ".py",
   "mimetype": "text/x-python",
   "name": "python",
   "nbconvert_exporter": "python",
   "pygments_lexer": "ipython3",
   "version": "3.7.3"
  }
 },
 "nbformat": 4,
 "nbformat_minor": 4
}
